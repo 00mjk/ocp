{
 "cells": [
  {
   "cell_type": "code",
   "execution_count": null,
   "metadata": {},
   "outputs": [],
   "source": [
    "import os\n",
    "import sys"
   ]
  },
  {
   "cell_type": "code",
   "execution_count": 2,
   "metadata": {},
   "outputs": [],
   "source": [
    "import ase.db\n",
    "import numpy as np\n",
    "import torch\n",
    "from pymatgen.io.ase import AseAtomsAdaptor"
   ]
  },
  {
   "cell_type": "code",
   "execution_count": 3,
   "metadata": {},
   "outputs": [],
   "source": [
    "test_db = ase.db.connect(\"../data/test_structs_1k.db\")"
   ]
  },
  {
   "cell_type": "code",
   "execution_count": 4,
   "metadata": {
    "scrolled": false
   },
   "outputs": [],
   "source": [
    "test_sys = test_db.get_atoms(5)"
   ]
  },
  {
   "cell_type": "code",
   "execution_count": 6,
   "metadata": {},
   "outputs": [],
   "source": [
    "def time_get_neighbor_list(atoms_db, radius=6):\n",
    "    for row in atoms_db.select():\n",
    "        atoms = row.toatoms()\n",
    "        structure = AseAtomsAdaptor.get_structure(atoms)\n",
    "        \n",
    "        neighbors = structure.get_neighbor_list(r=radius)"
   ]
  },
  {
   "cell_type": "code",
   "execution_count": 7,
   "metadata": {},
   "outputs": [],
   "source": [
    "def time_get_all_neighbors(atoms_db, radius=6):\n",
    "    for row in atoms_db.select():\n",
    "        atoms = row.toatoms()\n",
    "        structure = AseAtomsAdaptor.get_structure(atoms)\n",
    "        \n",
    "        neighbors = structure.get_all_neighbors(r=radius, include_index=True)"
   ]
  },
  {
   "cell_type": "code",
   "execution_count": 8,
   "metadata": {},
   "outputs": [],
   "source": [
    "test_structure = AseAtomsAdaptor.get_structure(test_sys)"
   ]
  },
  {
   "cell_type": "code",
   "execution_count": 78,
   "metadata": {},
   "outputs": [
    {
     "name": "stdout",
     "output_type": "stream",
     "text": [
      "513 µs ± 4.28 µs per loop (mean ± std. dev. of 7 runs, 1000 loops each)\n"
     ]
    }
   ],
   "source": [
    "%timeit nb1 = test_structure.get_neighbor_list(r=6.0)"
   ]
  },
  {
   "cell_type": "code",
   "execution_count": 79,
   "metadata": {},
   "outputs": [
    {
     "name": "stdout",
     "output_type": "stream",
     "text": [
      "1.33 ms ± 1.75 µs per loop (mean ± std. dev. of 7 runs, 1000 loops each)\n"
     ]
    }
   ],
   "source": [
    "%timeit nb2 = test_structure.get_all_neighbors(r=6.0, include_index=True)"
   ]
  },
  {
   "cell_type": "code",
   "execution_count": 94,
   "metadata": {},
   "outputs": [
    {
     "name": "stdout",
     "output_type": "stream",
     "text": [
      "980 µs ± 1.99 µs per loop (mean ± std. dev. of 7 runs, 1000 loops each)\n"
     ]
    }
   ],
   "source": [
    "%timeit test_sys.get_all_distances(mic=True)"
   ]
  },
  {
   "cell_type": "code",
   "execution_count": 88,
   "metadata": {},
   "outputs": [
    {
     "name": "stdout",
     "output_type": "stream",
     "text": [
      "1.52 s ± 5.98 ms per loop (mean ± std. dev. of 7 runs, 1 loop each)\n"
     ]
    }
   ],
   "source": [
    "%timeit nb1_fun = time_get_neighbor_list(test_db)"
   ]
  },
  {
   "cell_type": "code",
   "execution_count": 93,
   "metadata": {
    "scrolled": true
   },
   "outputs": [
    {
     "name": "stdout",
     "output_type": "stream",
     "text": [
      "5.5 s ± 13.2 ms per loop (mean ± std. dev. of 7 runs, 1 loop each)\n"
     ]
    }
   ],
   "source": [
    "%timeit nb2_fun = time_get_all_neighbors(test_db)"
   ]
  },
  {
   "cell_type": "code",
   "execution_count": null,
   "metadata": {},
   "outputs": [],
   "source": [
    "# appears the get_neighbor_list method is at least 3x faster"
   ]
  },
  {
   "cell_type": "markdown",
   "metadata": {},
   "source": [
    "ASE Neighborlist"
   ]
  },
  {
   "cell_type": "code",
   "execution_count": 99,
   "metadata": {},
   "outputs": [],
   "source": [
    "from ase.neighborlist import NeighborList, NewPrimitiveNeighborList, PrimitiveNeighborList"
   ]
  },
  {
   "cell_type": "code",
   "execution_count": 110,
   "metadata": {},
   "outputs": [],
   "source": [
    "def ase_neighborlist(image):\n",
    "    n = NeighborList(cutoffs=[6.0 / 2.0] * len(test_sys), \n",
    "                     skin=0, self_interaction=False, \n",
    "                     primitive=NewPrimitiveNeighborList, \n",
    "                     bothways=True)\n",
    "    n.update(image)\n",
    "    neighbors = [n.get_neighbors(index) for index in range(len(test_sys))]\n",
    "    return neighbors\n",
    "\n",
    "def ase_distances(image):\n",
    "    return image.get_all_distances(mic=True)\n",
    "\n",
    "def all_ase_neighborlist(atoms_db):\n",
    "    for row in atoms_db.select():\n",
    "        atoms = row.toatoms()\n",
    "        n = NeighborList(cutoffs=[6.0 / 2.0] * len(atoms), \n",
    "                         skin=0, self_interaction=False, \n",
    "                         primitive=NewPrimitiveNeighborList, \n",
    "                         bothways=True)\n",
    "        n.update(atoms)\n",
    "        neighbors = [n.get_neighbors(index) for index in range(len(atoms))]"
   ]
  },
  {
   "cell_type": "code",
   "execution_count": 105,
   "metadata": {},
   "outputs": [
    {
     "name": "stdout",
     "output_type": "stream",
     "text": [
      "4.04 ms ± 37.2 µs per loop (mean ± std. dev. of 7 runs, 100 loops each)\n"
     ]
    }
   ],
   "source": [
    "%timeit ase_neighbors = ase_neighborlist(test_sys)"
   ]
  },
  {
   "cell_type": "code",
   "execution_count": 106,
   "metadata": {},
   "outputs": [
    {
     "name": "stdout",
     "output_type": "stream",
     "text": [
      "994 µs ± 1.91 µs per loop (mean ± std. dev. of 7 runs, 1000 loops each)\n"
     ]
    }
   ],
   "source": [
    "%timeit adist = ase_distances(test_sys)"
   ]
  },
  {
   "cell_type": "code",
   "execution_count": 111,
   "metadata": {},
   "outputs": [
    {
     "name": "stdout",
     "output_type": "stream",
     "text": [
      "10.8 s ± 23.6 ms per loop (mean ± std. dev. of 7 runs, 1 loop each)\n"
     ]
    }
   ],
   "source": [
    "%timeit all_ase_neighborlist(test_db)"
   ]
  }
 ],
 "metadata": {
  "kernelspec": {
   "display_name": "Python 3",
   "language": "python",
   "name": "python3"
  },
  "language_info": {
   "codemirror_mode": {
    "name": "ipython",
    "version": 3
   },
   "file_extension": ".py",
   "mimetype": "text/x-python",
   "name": "python",
   "nbconvert_exporter": "python",
   "pygments_lexer": "ipython3",
   "version": "3.6.10"
  }
 },
 "nbformat": 4,
 "nbformat_minor": 4
}
